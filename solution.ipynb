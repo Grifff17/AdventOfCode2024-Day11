{
 "cells": [
  {
   "cell_type": "code",
   "execution_count": 1,
   "metadata": {},
   "outputs": [],
   "source": [
    "import pandas as pd\n",
    "import numpy as np\n",
    "from utils import *\n",
    "import math\n",
    "import functools\n",
    "import copy"
   ]
  },
  {
   "cell_type": "code",
   "execution_count": 2,
   "metadata": {},
   "outputs": [],
   "source": [
    "data = fileRead(\"input.txt\")"
   ]
  },
  {
   "cell_type": "markdown",
   "metadata": {},
   "source": [
    "## Part 1"
   ]
  },
  {
   "cell_type": "code",
   "execution_count": 3,
   "metadata": {},
   "outputs": [],
   "source": [
    "stones = [ int(i) for i in data[0].strip().split(\" \") ]"
   ]
  },
  {
   "cell_type": "code",
   "execution_count": 4,
   "metadata": {},
   "outputs": [
    {
     "data": {
      "text/plain": [
       "231278"
      ]
     },
     "execution_count": 4,
     "metadata": {},
     "output_type": "execute_result"
    }
   ],
   "source": [
    "for i in range(25):\n",
    "\n",
    "    for j in range(len(stones)-1,-1,-1):\n",
    "        if stones[j] == 0:\n",
    "            stones[j] = 1\n",
    "        elif len(str(stones[j])) % 2 == 0:\n",
    "            old = str(stones[j])\n",
    "            stones[j] = int(old[:int(len(old)/2)])\n",
    "            stones.insert(j+1, int(old[int(len(old)/2):]))\n",
    "        else:\n",
    "            stones[j] = stones[j] * 2024\n",
    "\n",
    "len(stones)"
   ]
  },
  {
   "cell_type": "markdown",
   "metadata": {},
   "source": [
    "## Part 2"
   ]
  },
  {
   "cell_type": "code",
   "execution_count": 13,
   "metadata": {},
   "outputs": [],
   "source": [
    "stones = [ int(i) for i in data[0].strip().split(\" \") ]"
   ]
  },
  {
   "cell_type": "code",
   "execution_count": 14,
   "metadata": {},
   "outputs": [],
   "source": [
    "@functools.cache\n",
    "def countStones(curr, iterLeft):\n",
    "    if iterLeft == 0:\n",
    "        return 1\n",
    "    \n",
    "    if curr == 0:\n",
    "        return countStones(1, iterLeft-1)\n",
    "    elif len(str(curr)) % 2 == 0:\n",
    "        return countStones(int(str(curr)[:int(len(str(curr))/2)]), iterLeft-1) + \\\n",
    "            countStones(int(str(curr)[int(len(str(curr))/2):]), iterLeft-1)\n",
    "    else:\n",
    "        return countStones(curr*2024, iterLeft-1)"
   ]
  },
  {
   "cell_type": "code",
   "execution_count": null,
   "metadata": {},
   "outputs": [
    {
     "data": {
      "text/plain": [
       "274229228071551"
      ]
     },
     "execution_count": 15,
     "metadata": {},
     "output_type": "execute_result"
    }
   ],
   "source": [
    "countStones.cache_clear()\n",
    "sum = 0\n",
    "for i in stones:\n",
    "    sum = sum + countStones(i, 75)\n",
    "sum"
   ]
  },
  {
   "cell_type": "code",
   "execution_count": null,
   "metadata": {},
   "outputs": [],
   "source": []
  }
 ],
 "metadata": {
  "kernelspec": {
   "display_name": "base",
   "language": "python",
   "name": "python3"
  },
  "language_info": {
   "codemirror_mode": {
    "name": "ipython",
    "version": 3
   },
   "file_extension": ".py",
   "mimetype": "text/x-python",
   "name": "python",
   "nbconvert_exporter": "python",
   "pygments_lexer": "ipython3",
   "version": "3.11.7"
  }
 },
 "nbformat": 4,
 "nbformat_minor": 2
}
